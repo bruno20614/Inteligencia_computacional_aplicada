{
 "cells": [
  {
   "cell_type": "code",
   "execution_count": 1,
   "id": "80992911",
   "metadata": {},
   "outputs": [],
   "source": [
    "import numpy as np\n",
    "import pandas as pd\n",
    "import matplotlib.pyplot as plt\n",
    "import torch\n",
    "import torchvision\n",
    "import torchvision.transforms as T\n",
    "from torch.utils.data import DataLoader"
   ]
  },
  {
   "cell_type": "code",
   "execution_count": 2,
   "id": "5edf5882",
   "metadata": {},
   "outputs": [],
   "source": [
    "np.random.seed(42)"
   ]
  },
  {
   "cell_type": "code",
   "execution_count": null,
   "id": "bac12011",
   "metadata": {},
   "outputs": [],
   "source": [
    "class Datasets:\n",
    "    def loader_cifar100(batch_size=64, num_workers=2):\n",
    "        transform = T.Compose([\n",
    "            T.ToTensor(),\n",
    "            T.Normalize((0.5071, 0.4867, 0.4408), (0.2675, 0.2565, 0.2761)),  \n",
    "        ])\n",
    "\n",
    "        trainset = torchvision.datasets.CIFAR100(root=\"./data\", train=True, download=True, transform=transform)\n",
    "        testset  = torchvision.datasets.CIFAR100(root=\"./data\", train=False, download=True, transform=transform)\n",
    "\n",
    "        trainloader = DataLoader(trainset, batch_size=batch_size, shuffle=True, num_workers=num_workers)\n",
    "        testloader  = DataLoader(testset, batch_size=batch_size, shuffle=False, num_workers=num_workers)\n",
    "\n",
    "        print(f\"[CIFAR100] Treino: {len(trainset)} | Teste: {len(testset)}\")\n",
    "        return trainset, testset, trainloader, testloader\n",
    "\n",
    "    def loader_food101(batch_size=64, num_workers=2):\n",
    "        transform = T.Compose([\n",
    "            T.Resize((224, 224)),  \n",
    "            T.ToTensor(),\n",
    "            T.Normalize((0.545, 0.436, 0.342), (0.294, 0.275, 0.281))\n",
    "        ])\n",
    "\n",
    "        trainset = torchvision.datasets.Food101(root=\"./data\", split=\"train\", download=True, transform=transform)\n",
    "        testset  = torchvision.datasets.Food101(root=\"./data\", split=\"test\", download=True, transform=transform)\n",
    "\n",
    "        trainloader = DataLoader(trainset, batch_size=batch_size, shuffle=True, num_workers=num_workers)\n",
    "        testloader  = DataLoader(testset, batch_size=batch_size, shuffle=False, num_workers=num_workers)\n",
    "\n",
    "        print(f\"[Food-101] Treino: {len(trainset)} | Teste: {len(testset)}\")\n",
    "        return trainset, testset, trainloader, testloader\n",
    "\n",
    "    def loader_caltech256(batch_size=64, num_workers=2):\n",
    "        transform = T.Compose([\n",
    "            T.Resize((224, 224)),\n",
    "            T.ToTensor(),\n",
    "            T.Normalize((0.485, 0.456, 0.406), (0.229, 0.224, 0.225))\n",
    "        ])\n",
    "\n",
    "        dataset = torchvision.datasets.Caltech256(root=\"./data\", download=True, transform=transform)\n",
    "\n",
    "        train_size = int(0.8 * len(dataset))\n",
    "        test_size = len(dataset) - train_size\n",
    "        trainset, testset = torch.utils.data.random_split(dataset, [train_size, test_size])\n",
    "\n",
    "        trainloader = DataLoader(trainset, batch_size=batch_size, shuffle=True, num_workers=num_workers)\n",
    "        testloader  = DataLoader(testset, batch_size=batch_size, shuffle=False, num_workers=num_workers)\n",
    "\n",
    "        print(f\"[Caltech-256] Treino: {len(trainset)} | Teste: {len(testset)}\")\n",
    "        return trainset, testset, trainloader, testloader"
   ]
  }
 ],
 "metadata": {
  "kernelspec": {
   "display_name": "venv",
   "language": "python",
   "name": "python3"
  },
  "language_info": {
   "codemirror_mode": {
    "name": "ipython",
    "version": 3
   },
   "file_extension": ".py",
   "mimetype": "text/x-python",
   "name": "python",
   "nbconvert_exporter": "python",
   "pygments_lexer": "ipython3",
   "version": "3.11.9"
  }
 },
 "nbformat": 4,
 "nbformat_minor": 5
}
